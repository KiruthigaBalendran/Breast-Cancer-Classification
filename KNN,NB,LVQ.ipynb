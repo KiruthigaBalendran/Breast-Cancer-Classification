{
  "nbformat": 4,
  "nbformat_minor": 0,
  "metadata": {
    "colab": {
      "name": "KNN,NB,LVQ.ipynb",
      "provenance": [],
      "mount_file_id": "1bqkEV4Cm3kZtr13aZM1cF9zMZRkaAkWJ",
      "authorship_tag": "ABX9TyO2yygd/EVKlheviFlPScSt",
      "include_colab_link": true
    },
    "kernelspec": {
      "name": "python3",
      "display_name": "Python 3"
    },
    "language_info": {
      "name": "python"
    }
  },
  "cells": [
    {
      "cell_type": "markdown",
      "metadata": {
        "id": "view-in-github",
        "colab_type": "text"
      },
      "source": [
        "<a href=\"https://colab.research.google.com/github/KiruthigaBalendran/Breast-Cancer-Classification/blob/main/KNN%2CNB%2CLVQ.ipynb\" target=\"_parent\"><img src=\"https://colab.research.google.com/assets/colab-badge.svg\" alt=\"Open In Colab\"/></a>"
      ]
    },
    {
      "cell_type": "code",
      "execution_count": 19,
      "metadata": {
        "id": "rbHZtHzFiigr",
        "colab": {
          "base_uri": "https://localhost:8080/"
        },
        "outputId": "58d1198f-555c-4a16-9db3-883eaa7aba43"
      },
      "outputs": [
        {
          "output_type": "stream",
          "name": "stdout",
          "text": [
            "Requirement already satisfied: neupy in /usr/local/lib/python3.7/dist-packages (0.8.2)\n",
            "Requirement already satisfied: progressbar2==3.34.3 in /usr/local/lib/python3.7/dist-packages (from neupy) (3.34.3)\n",
            "Requirement already satisfied: matplotlib>=1.5.1 in /usr/local/lib/python3.7/dist-packages (from neupy) (3.2.2)\n",
            "Requirement already satisfied: scipy>=0.19.0 in /usr/local/lib/python3.7/dist-packages (from neupy) (1.4.1)\n",
            "Requirement already satisfied: graphviz==0.5.1 in /usr/local/lib/python3.7/dist-packages (from neupy) (0.5.1)\n",
            "Requirement already satisfied: tensorflow<1.14.0,>=1.10.1 in /usr/local/lib/python3.7/dist-packages (from neupy) (1.13.2)\n",
            "Requirement already satisfied: h5py in /usr/local/lib/python3.7/dist-packages (from neupy) (3.1.0)\n",
            "Requirement already satisfied: numpy>=1.13.3 in /usr/local/lib/python3.7/dist-packages (from neupy) (1.21.5)\n",
            "Requirement already satisfied: python-utils>=2.1.0 in /usr/local/lib/python3.7/dist-packages (from progressbar2==3.34.3->neupy) (3.1.0)\n",
            "Requirement already satisfied: kiwisolver>=1.0.1 in /usr/local/lib/python3.7/dist-packages (from matplotlib>=1.5.1->neupy) (1.3.2)\n",
            "Requirement already satisfied: python-dateutil>=2.1 in /usr/local/lib/python3.7/dist-packages (from matplotlib>=1.5.1->neupy) (2.8.2)\n",
            "Requirement already satisfied: cycler>=0.10 in /usr/local/lib/python3.7/dist-packages (from matplotlib>=1.5.1->neupy) (0.11.0)\n",
            "Requirement already satisfied: pyparsing!=2.0.4,!=2.1.2,!=2.1.6,>=2.0.1 in /usr/local/lib/python3.7/dist-packages (from matplotlib>=1.5.1->neupy) (3.0.7)\n",
            "Requirement already satisfied: six>=1.5 in /usr/local/lib/python3.7/dist-packages (from python-dateutil>=2.1->matplotlib>=1.5.1->neupy) (1.15.0)\n",
            "Requirement already satisfied: tensorboard<1.14.0,>=1.13.0 in /usr/local/lib/python3.7/dist-packages (from tensorflow<1.14.0,>=1.10.1->neupy) (1.13.1)\n",
            "Requirement already satisfied: gast>=0.2.0 in /usr/local/lib/python3.7/dist-packages (from tensorflow<1.14.0,>=1.10.1->neupy) (0.5.3)\n",
            "Requirement already satisfied: grpcio>=1.8.6 in /usr/local/lib/python3.7/dist-packages (from tensorflow<1.14.0,>=1.10.1->neupy) (1.44.0)\n",
            "Requirement already satisfied: tensorflow-estimator<1.14.0rc0,>=1.13.0 in /usr/local/lib/python3.7/dist-packages (from tensorflow<1.14.0,>=1.10.1->neupy) (1.13.0)\n",
            "Requirement already satisfied: astor>=0.6.0 in /usr/local/lib/python3.7/dist-packages (from tensorflow<1.14.0,>=1.10.1->neupy) (0.8.1)\n",
            "Requirement already satisfied: wheel>=0.26 in /usr/local/lib/python3.7/dist-packages (from tensorflow<1.14.0,>=1.10.1->neupy) (0.37.1)\n",
            "Requirement already satisfied: absl-py>=0.1.6 in /usr/local/lib/python3.7/dist-packages (from tensorflow<1.14.0,>=1.10.1->neupy) (1.0.0)\n",
            "Requirement already satisfied: keras-applications>=1.0.6 in /usr/local/lib/python3.7/dist-packages (from tensorflow<1.14.0,>=1.10.1->neupy) (1.0.8)\n",
            "Requirement already satisfied: keras-preprocessing>=1.0.5 in /usr/local/lib/python3.7/dist-packages (from tensorflow<1.14.0,>=1.10.1->neupy) (1.1.2)\n",
            "Requirement already satisfied: protobuf>=3.6.1 in /usr/local/lib/python3.7/dist-packages (from tensorflow<1.14.0,>=1.10.1->neupy) (3.17.3)\n",
            "Requirement already satisfied: termcolor>=1.1.0 in /usr/local/lib/python3.7/dist-packages (from tensorflow<1.14.0,>=1.10.1->neupy) (1.1.0)\n",
            "Requirement already satisfied: markdown>=2.6.8 in /usr/local/lib/python3.7/dist-packages (from tensorboard<1.14.0,>=1.13.0->tensorflow<1.14.0,>=1.10.1->neupy) (3.3.6)\n",
            "Requirement already satisfied: werkzeug>=0.11.15 in /usr/local/lib/python3.7/dist-packages (from tensorboard<1.14.0,>=1.13.0->tensorflow<1.14.0,>=1.10.1->neupy) (1.0.1)\n",
            "Requirement already satisfied: importlib-metadata>=4.4 in /usr/local/lib/python3.7/dist-packages (from markdown>=2.6.8->tensorboard<1.14.0,>=1.13.0->tensorflow<1.14.0,>=1.10.1->neupy) (4.11.2)\n",
            "Requirement already satisfied: zipp>=0.5 in /usr/local/lib/python3.7/dist-packages (from importlib-metadata>=4.4->markdown>=2.6.8->tensorboard<1.14.0,>=1.13.0->tensorflow<1.14.0,>=1.10.1->neupy) (3.7.0)\n",
            "Requirement already satisfied: typing-extensions>=3.6.4 in /usr/local/lib/python3.7/dist-packages (from importlib-metadata>=4.4->markdown>=2.6.8->tensorboard<1.14.0,>=1.13.0->tensorflow<1.14.0,>=1.10.1->neupy) (3.10.0.2)\n",
            "Requirement already satisfied: mock>=2.0.0 in /usr/local/lib/python3.7/dist-packages (from tensorflow-estimator<1.14.0rc0,>=1.13.0->tensorflow<1.14.0,>=1.10.1->neupy) (4.0.3)\n",
            "Requirement already satisfied: cached-property in /usr/local/lib/python3.7/dist-packages (from h5py->neupy) (1.5.2)\n"
          ]
        }
      ],
      "source": [
        "!pip install neupy\n",
        "import pandas as pd\n",
        "import numpy as np\n",
        "\n",
        "# data visualization\n",
        "import matplotlib.pyplot as plt\n",
        "import seaborn as sns\n",
        "\n",
        "# machine learning\n",
        "from sklearn.preprocessing import StandardScaler\n",
        "\n",
        "import sklearn.linear_model as skl_lm\n",
        "from sklearn.preprocessing import LabelEncoder\n",
        "from sklearn import neighbors\n",
        "from sklearn.metrics import confusion_matrix, classification_report, precision_score, accuracy_score\n",
        "from sklearn.model_selection import train_test_split\n",
        "from sklearn.neighbors import KNeighborsClassifier\n",
        "from sklearn.naive_bayes import GaussianNB\n",
        "from neupy import algorithms, utils\n",
        "\n",
        "# package settings initialization\n",
        "sns.set(style=\"whitegrid\", color_codes=True, font_scale=1.3)\n",
        "\n",
        "%matplotlib inline"
      ]
    },
    {
      "cell_type": "markdown",
      "source": [
        "# Read the Data"
      ],
      "metadata": {
        "id": "O1ZEra5XNsYX"
      }
    },
    {
      "cell_type": "code",
      "source": [
        "# read the data and check the first 5 rows\n",
        "df = pd.read_csv('/content/drive/MyDrive/MSc/Semester-4/Pattern-Recognition/Assignments/KNN/data.csv', index_col=0)\n",
        "df.head()"
      ],
      "metadata": {
        "colab": {
          "base_uri": "https://localhost:8080/",
          "height": 348
        },
        "id": "i8hYIxb5oSog",
        "outputId": "4ef2b0e1-8ecd-4187-90ff-6ce29a84bfd5"
      },
      "execution_count": 20,
      "outputs": [
        {
          "output_type": "execute_result",
          "data": {
            "text/plain": [
              "         diagnosis  radius_mean  texture_mean  perimeter_mean  area_mean  \\\n",
              "id                                                                         \n",
              "842302           M        17.99         10.38          122.80     1001.0   \n",
              "842517           M        20.57         17.77          132.90     1326.0   \n",
              "84300903         M        19.69         21.25          130.00     1203.0   \n",
              "84348301         M        11.42         20.38           77.58      386.1   \n",
              "84358402         M        20.29         14.34          135.10     1297.0   \n",
              "\n",
              "          smoothness_mean  compactness_mean  concavity_mean  \\\n",
              "id                                                            \n",
              "842302            0.11840           0.27760          0.3001   \n",
              "842517            0.08474           0.07864          0.0869   \n",
              "84300903          0.10960           0.15990          0.1974   \n",
              "84348301          0.14250           0.28390          0.2414   \n",
              "84358402          0.10030           0.13280          0.1980   \n",
              "\n",
              "          concave points_mean  symmetry_mean  ...  texture_worst  \\\n",
              "id                                            ...                  \n",
              "842302                0.14710         0.2419  ...          17.33   \n",
              "842517                0.07017         0.1812  ...          23.41   \n",
              "84300903              0.12790         0.2069  ...          25.53   \n",
              "84348301              0.10520         0.2597  ...          26.50   \n",
              "84358402              0.10430         0.1809  ...          16.67   \n",
              "\n",
              "          perimeter_worst  area_worst  smoothness_worst  compactness_worst  \\\n",
              "id                                                                           \n",
              "842302             184.60      2019.0            0.1622             0.6656   \n",
              "842517             158.80      1956.0            0.1238             0.1866   \n",
              "84300903           152.50      1709.0            0.1444             0.4245   \n",
              "84348301            98.87       567.7            0.2098             0.8663   \n",
              "84358402           152.20      1575.0            0.1374             0.2050   \n",
              "\n",
              "          concavity_worst  concave points_worst  symmetry_worst  \\\n",
              "id                                                                \n",
              "842302             0.7119                0.2654          0.4601   \n",
              "842517             0.2416                0.1860          0.2750   \n",
              "84300903           0.4504                0.2430          0.3613   \n",
              "84348301           0.6869                0.2575          0.6638   \n",
              "84358402           0.4000                0.1625          0.2364   \n",
              "\n",
              "          fractal_dimension_worst  Unnamed: 32  \n",
              "id                                              \n",
              "842302                    0.11890          NaN  \n",
              "842517                    0.08902          NaN  \n",
              "84300903                  0.08758          NaN  \n",
              "84348301                  0.17300          NaN  \n",
              "84358402                  0.07678          NaN  \n",
              "\n",
              "[5 rows x 32 columns]"
            ],
            "text/html": [
              "\n",
              "  <div id=\"df-01490b61-ba48-47c7-8cac-b6e4a11b4a30\">\n",
              "    <div class=\"colab-df-container\">\n",
              "      <div>\n",
              "<style scoped>\n",
              "    .dataframe tbody tr th:only-of-type {\n",
              "        vertical-align: middle;\n",
              "    }\n",
              "\n",
              "    .dataframe tbody tr th {\n",
              "        vertical-align: top;\n",
              "    }\n",
              "\n",
              "    .dataframe thead th {\n",
              "        text-align: right;\n",
              "    }\n",
              "</style>\n",
              "<table border=\"1\" class=\"dataframe\">\n",
              "  <thead>\n",
              "    <tr style=\"text-align: right;\">\n",
              "      <th></th>\n",
              "      <th>diagnosis</th>\n",
              "      <th>radius_mean</th>\n",
              "      <th>texture_mean</th>\n",
              "      <th>perimeter_mean</th>\n",
              "      <th>area_mean</th>\n",
              "      <th>smoothness_mean</th>\n",
              "      <th>compactness_mean</th>\n",
              "      <th>concavity_mean</th>\n",
              "      <th>concave points_mean</th>\n",
              "      <th>symmetry_mean</th>\n",
              "      <th>...</th>\n",
              "      <th>texture_worst</th>\n",
              "      <th>perimeter_worst</th>\n",
              "      <th>area_worst</th>\n",
              "      <th>smoothness_worst</th>\n",
              "      <th>compactness_worst</th>\n",
              "      <th>concavity_worst</th>\n",
              "      <th>concave points_worst</th>\n",
              "      <th>symmetry_worst</th>\n",
              "      <th>fractal_dimension_worst</th>\n",
              "      <th>Unnamed: 32</th>\n",
              "    </tr>\n",
              "    <tr>\n",
              "      <th>id</th>\n",
              "      <th></th>\n",
              "      <th></th>\n",
              "      <th></th>\n",
              "      <th></th>\n",
              "      <th></th>\n",
              "      <th></th>\n",
              "      <th></th>\n",
              "      <th></th>\n",
              "      <th></th>\n",
              "      <th></th>\n",
              "      <th></th>\n",
              "      <th></th>\n",
              "      <th></th>\n",
              "      <th></th>\n",
              "      <th></th>\n",
              "      <th></th>\n",
              "      <th></th>\n",
              "      <th></th>\n",
              "      <th></th>\n",
              "      <th></th>\n",
              "      <th></th>\n",
              "    </tr>\n",
              "  </thead>\n",
              "  <tbody>\n",
              "    <tr>\n",
              "      <th>842302</th>\n",
              "      <td>M</td>\n",
              "      <td>17.99</td>\n",
              "      <td>10.38</td>\n",
              "      <td>122.80</td>\n",
              "      <td>1001.0</td>\n",
              "      <td>0.11840</td>\n",
              "      <td>0.27760</td>\n",
              "      <td>0.3001</td>\n",
              "      <td>0.14710</td>\n",
              "      <td>0.2419</td>\n",
              "      <td>...</td>\n",
              "      <td>17.33</td>\n",
              "      <td>184.60</td>\n",
              "      <td>2019.0</td>\n",
              "      <td>0.1622</td>\n",
              "      <td>0.6656</td>\n",
              "      <td>0.7119</td>\n",
              "      <td>0.2654</td>\n",
              "      <td>0.4601</td>\n",
              "      <td>0.11890</td>\n",
              "      <td>NaN</td>\n",
              "    </tr>\n",
              "    <tr>\n",
              "      <th>842517</th>\n",
              "      <td>M</td>\n",
              "      <td>20.57</td>\n",
              "      <td>17.77</td>\n",
              "      <td>132.90</td>\n",
              "      <td>1326.0</td>\n",
              "      <td>0.08474</td>\n",
              "      <td>0.07864</td>\n",
              "      <td>0.0869</td>\n",
              "      <td>0.07017</td>\n",
              "      <td>0.1812</td>\n",
              "      <td>...</td>\n",
              "      <td>23.41</td>\n",
              "      <td>158.80</td>\n",
              "      <td>1956.0</td>\n",
              "      <td>0.1238</td>\n",
              "      <td>0.1866</td>\n",
              "      <td>0.2416</td>\n",
              "      <td>0.1860</td>\n",
              "      <td>0.2750</td>\n",
              "      <td>0.08902</td>\n",
              "      <td>NaN</td>\n",
              "    </tr>\n",
              "    <tr>\n",
              "      <th>84300903</th>\n",
              "      <td>M</td>\n",
              "      <td>19.69</td>\n",
              "      <td>21.25</td>\n",
              "      <td>130.00</td>\n",
              "      <td>1203.0</td>\n",
              "      <td>0.10960</td>\n",
              "      <td>0.15990</td>\n",
              "      <td>0.1974</td>\n",
              "      <td>0.12790</td>\n",
              "      <td>0.2069</td>\n",
              "      <td>...</td>\n",
              "      <td>25.53</td>\n",
              "      <td>152.50</td>\n",
              "      <td>1709.0</td>\n",
              "      <td>0.1444</td>\n",
              "      <td>0.4245</td>\n",
              "      <td>0.4504</td>\n",
              "      <td>0.2430</td>\n",
              "      <td>0.3613</td>\n",
              "      <td>0.08758</td>\n",
              "      <td>NaN</td>\n",
              "    </tr>\n",
              "    <tr>\n",
              "      <th>84348301</th>\n",
              "      <td>M</td>\n",
              "      <td>11.42</td>\n",
              "      <td>20.38</td>\n",
              "      <td>77.58</td>\n",
              "      <td>386.1</td>\n",
              "      <td>0.14250</td>\n",
              "      <td>0.28390</td>\n",
              "      <td>0.2414</td>\n",
              "      <td>0.10520</td>\n",
              "      <td>0.2597</td>\n",
              "      <td>...</td>\n",
              "      <td>26.50</td>\n",
              "      <td>98.87</td>\n",
              "      <td>567.7</td>\n",
              "      <td>0.2098</td>\n",
              "      <td>0.8663</td>\n",
              "      <td>0.6869</td>\n",
              "      <td>0.2575</td>\n",
              "      <td>0.6638</td>\n",
              "      <td>0.17300</td>\n",
              "      <td>NaN</td>\n",
              "    </tr>\n",
              "    <tr>\n",
              "      <th>84358402</th>\n",
              "      <td>M</td>\n",
              "      <td>20.29</td>\n",
              "      <td>14.34</td>\n",
              "      <td>135.10</td>\n",
              "      <td>1297.0</td>\n",
              "      <td>0.10030</td>\n",
              "      <td>0.13280</td>\n",
              "      <td>0.1980</td>\n",
              "      <td>0.10430</td>\n",
              "      <td>0.1809</td>\n",
              "      <td>...</td>\n",
              "      <td>16.67</td>\n",
              "      <td>152.20</td>\n",
              "      <td>1575.0</td>\n",
              "      <td>0.1374</td>\n",
              "      <td>0.2050</td>\n",
              "      <td>0.4000</td>\n",
              "      <td>0.1625</td>\n",
              "      <td>0.2364</td>\n",
              "      <td>0.07678</td>\n",
              "      <td>NaN</td>\n",
              "    </tr>\n",
              "  </tbody>\n",
              "</table>\n",
              "<p>5 rows × 32 columns</p>\n",
              "</div>\n",
              "      <button class=\"colab-df-convert\" onclick=\"convertToInteractive('df-01490b61-ba48-47c7-8cac-b6e4a11b4a30')\"\n",
              "              title=\"Convert this dataframe to an interactive table.\"\n",
              "              style=\"display:none;\">\n",
              "        \n",
              "  <svg xmlns=\"http://www.w3.org/2000/svg\" height=\"24px\"viewBox=\"0 0 24 24\"\n",
              "       width=\"24px\">\n",
              "    <path d=\"M0 0h24v24H0V0z\" fill=\"none\"/>\n",
              "    <path d=\"M18.56 5.44l.94 2.06.94-2.06 2.06-.94-2.06-.94-.94-2.06-.94 2.06-2.06.94zm-11 1L8.5 8.5l.94-2.06 2.06-.94-2.06-.94L8.5 2.5l-.94 2.06-2.06.94zm10 10l.94 2.06.94-2.06 2.06-.94-2.06-.94-.94-2.06-.94 2.06-2.06.94z\"/><path d=\"M17.41 7.96l-1.37-1.37c-.4-.4-.92-.59-1.43-.59-.52 0-1.04.2-1.43.59L10.3 9.45l-7.72 7.72c-.78.78-.78 2.05 0 2.83L4 21.41c.39.39.9.59 1.41.59.51 0 1.02-.2 1.41-.59l7.78-7.78 2.81-2.81c.8-.78.8-2.07 0-2.86zM5.41 20L4 18.59l7.72-7.72 1.47 1.35L5.41 20z\"/>\n",
              "  </svg>\n",
              "      </button>\n",
              "      \n",
              "  <style>\n",
              "    .colab-df-container {\n",
              "      display:flex;\n",
              "      flex-wrap:wrap;\n",
              "      gap: 12px;\n",
              "    }\n",
              "\n",
              "    .colab-df-convert {\n",
              "      background-color: #E8F0FE;\n",
              "      border: none;\n",
              "      border-radius: 50%;\n",
              "      cursor: pointer;\n",
              "      display: none;\n",
              "      fill: #1967D2;\n",
              "      height: 32px;\n",
              "      padding: 0 0 0 0;\n",
              "      width: 32px;\n",
              "    }\n",
              "\n",
              "    .colab-df-convert:hover {\n",
              "      background-color: #E2EBFA;\n",
              "      box-shadow: 0px 1px 2px rgba(60, 64, 67, 0.3), 0px 1px 3px 1px rgba(60, 64, 67, 0.15);\n",
              "      fill: #174EA6;\n",
              "    }\n",
              "\n",
              "    [theme=dark] .colab-df-convert {\n",
              "      background-color: #3B4455;\n",
              "      fill: #D2E3FC;\n",
              "    }\n",
              "\n",
              "    [theme=dark] .colab-df-convert:hover {\n",
              "      background-color: #434B5C;\n",
              "      box-shadow: 0px 1px 3px 1px rgba(0, 0, 0, 0.15);\n",
              "      filter: drop-shadow(0px 1px 2px rgba(0, 0, 0, 0.3));\n",
              "      fill: #FFFFFF;\n",
              "    }\n",
              "  </style>\n",
              "\n",
              "      <script>\n",
              "        const buttonEl =\n",
              "          document.querySelector('#df-01490b61-ba48-47c7-8cac-b6e4a11b4a30 button.colab-df-convert');\n",
              "        buttonEl.style.display =\n",
              "          google.colab.kernel.accessAllowed ? 'block' : 'none';\n",
              "\n",
              "        async function convertToInteractive(key) {\n",
              "          const element = document.querySelector('#df-01490b61-ba48-47c7-8cac-b6e4a11b4a30');\n",
              "          const dataTable =\n",
              "            await google.colab.kernel.invokeFunction('convertToInteractive',\n",
              "                                                     [key], {});\n",
              "          if (!dataTable) return;\n",
              "\n",
              "          const docLinkHtml = 'Like what you see? Visit the ' +\n",
              "            '<a target=\"_blank\" href=https://colab.research.google.com/notebooks/data_table.ipynb>data table notebook</a>'\n",
              "            + ' to learn more about interactive tables.';\n",
              "          element.innerHTML = '';\n",
              "          dataTable['output_type'] = 'display_data';\n",
              "          await google.colab.output.renderOutput(dataTable, element);\n",
              "          const docLink = document.createElement('div');\n",
              "          docLink.innerHTML = docLinkHtml;\n",
              "          element.appendChild(docLink);\n",
              "        }\n",
              "      </script>\n",
              "    </div>\n",
              "  </div>\n",
              "  "
            ]
          },
          "metadata": {},
          "execution_count": 20
        }
      ]
    },
    {
      "cell_type": "markdown",
      "source": [
        "# Data Summary"
      ],
      "metadata": {
        "id": "K8NcFd1HNvvZ"
      }
    },
    {
      "cell_type": "code",
      "source": [
        "# general summary of the dataframe\n",
        "df.info()"
      ],
      "metadata": {
        "colab": {
          "base_uri": "https://localhost:8080/"
        },
        "id": "qNsbNksOpDAZ",
        "outputId": "65f03e7b-cbff-46e2-c765-a93ffff46303"
      },
      "execution_count": 21,
      "outputs": [
        {
          "output_type": "stream",
          "name": "stdout",
          "text": [
            "<class 'pandas.core.frame.DataFrame'>\n",
            "Int64Index: 569 entries, 842302 to 92751\n",
            "Data columns (total 32 columns):\n",
            " #   Column                   Non-Null Count  Dtype  \n",
            "---  ------                   --------------  -----  \n",
            " 0   diagnosis                569 non-null    object \n",
            " 1   radius_mean              569 non-null    float64\n",
            " 2   texture_mean             569 non-null    float64\n",
            " 3   perimeter_mean           569 non-null    float64\n",
            " 4   area_mean                569 non-null    float64\n",
            " 5   smoothness_mean          569 non-null    float64\n",
            " 6   compactness_mean         569 non-null    float64\n",
            " 7   concavity_mean           569 non-null    float64\n",
            " 8   concave points_mean      569 non-null    float64\n",
            " 9   symmetry_mean            569 non-null    float64\n",
            " 10  fractal_dimension_mean   569 non-null    float64\n",
            " 11  radius_se                569 non-null    float64\n",
            " 12  texture_se               569 non-null    float64\n",
            " 13  perimeter_se             569 non-null    float64\n",
            " 14  area_se                  569 non-null    float64\n",
            " 15  smoothness_se            569 non-null    float64\n",
            " 16  compactness_se           569 non-null    float64\n",
            " 17  concavity_se             569 non-null    float64\n",
            " 18  concave points_se        569 non-null    float64\n",
            " 19  symmetry_se              569 non-null    float64\n",
            " 20  fractal_dimension_se     569 non-null    float64\n",
            " 21  radius_worst             569 non-null    float64\n",
            " 22  texture_worst            569 non-null    float64\n",
            " 23  perimeter_worst          569 non-null    float64\n",
            " 24  area_worst               569 non-null    float64\n",
            " 25  smoothness_worst         569 non-null    float64\n",
            " 26  compactness_worst        569 non-null    float64\n",
            " 27  concavity_worst          569 non-null    float64\n",
            " 28  concave points_worst     569 non-null    float64\n",
            " 29  symmetry_worst           569 non-null    float64\n",
            " 30  fractal_dimension_worst  569 non-null    float64\n",
            " 31  Unnamed: 32              0 non-null      float64\n",
            "dtypes: float64(31), object(1)\n",
            "memory usage: 146.7+ KB\n"
          ]
        }
      ]
    },
    {
      "cell_type": "markdown",
      "source": [
        "# Pre-processing"
      ],
      "metadata": {
        "id": "OY4Zsgt6Nzpm"
      }
    },
    {
      "cell_type": "code",
      "source": [
        "# There aren't any missing values except the column Unnamed: 32. So this column can be removed\n",
        "df = df.drop('Unnamed: 32', axis=1)\n",
        "df1= df"
      ],
      "metadata": {
        "id": "mWlC5hsKpHed"
      },
      "execution_count": 22,
      "outputs": []
    },
    {
      "cell_type": "code",
      "source": [
        "# Using Labelencoder to transform diagnosis characters to digits\n",
        "labelencoder = LabelEncoder()\n",
        "df['diagnosis'] = labelencoder.fit_transform(df['diagnosis'])\n",
        "X = df\n",
        "y = df['diagnosis']\n",
        "\n",
        "\n",
        "# Split the data into training and testing sets\n",
        "# The paper has split the data as 65.10% as training and 34.90% as testing\n",
        "X_train, X_test, y_train, y_test = train_test_split(X, y, test_size=0.349, random_state=40)"
      ],
      "metadata": {
        "id": "tlD876Ygukmw"
      },
      "execution_count": 23,
      "outputs": []
    },
    {
      "cell_type": "markdown",
      "source": [
        "# KNN Model"
      ],
      "metadata": {
        "id": "TxjEoWStN4AX"
      }
    },
    {
      "cell_type": "code",
      "source": [
        "# Creating the model using n=3\n",
        "knn_model = KNeighborsClassifier(n_neighbors=3)\n",
        "knn_model.fit(X_train, y_train)"
      ],
      "metadata": {
        "colab": {
          "base_uri": "https://localhost:8080/"
        },
        "id": "-8B9OtR2VnHm",
        "outputId": "47fc9810-32f0-4490-a1ff-d4b6a5063ef9"
      },
      "execution_count": 24,
      "outputs": [
        {
          "output_type": "execute_result",
          "data": {
            "text/plain": [
              "KNeighborsClassifier(n_neighbors=3)"
            ]
          },
          "metadata": {},
          "execution_count": 24
        }
      ]
    },
    {
      "cell_type": "markdown",
      "source": [
        "# KNN Model Prediction"
      ],
      "metadata": {
        "id": "mCtPnsjnN_hZ"
      }
    },
    {
      "cell_type": "code",
      "source": [
        "knn_predictions = knn_model.predict(X_test)"
      ],
      "metadata": {
        "id": "Jj00F0l1B21v"
      },
      "execution_count": 25,
      "outputs": []
    },
    {
      "cell_type": "markdown",
      "source": [
        "# KNN Accuracy "
      ],
      "metadata": {
        "id": "Axlwgn7ENlwH"
      }
    },
    {
      "cell_type": "code",
      "source": [
        "# Use score method to get accuracy of model\n",
        "knn_score = knn_model.score(X_test, y_test)\n",
        "print(\"Accuracy KNN classifier : \" + str(knn_score))\n"
      ],
      "metadata": {
        "colab": {
          "base_uri": "https://localhost:8080/"
        },
        "id": "5cGw86iaB59a",
        "outputId": "bb7788a7-ea28-4895-ba03-19dc2c9d9ce1"
      },
      "execution_count": 26,
      "outputs": [
        {
          "output_type": "stream",
          "name": "stdout",
          "text": [
            "Accuracy KNN classifier : 0.9346733668341709\n"
          ]
        }
      ]
    },
    {
      "cell_type": "markdown",
      "source": [
        "# KNN Classification Report and Confusion Matrix"
      ],
      "metadata": {
        "id": "xAumUO5SNEqi"
      }
    },
    {
      "cell_type": "code",
      "source": [
        "print(classification_report(y_test, knn_predictions, digits=3))\n",
        "knn_cm = confusion_matrix(y_test, knn_predictions)\n",
        "print(knn_cm)"
      ],
      "metadata": {
        "colab": {
          "base_uri": "https://localhost:8080/"
        },
        "id": "rBbVzMYuDOeo",
        "outputId": "ffd4d907-d1a5-4673-d010-2eb2605191c7"
      },
      "execution_count": 27,
      "outputs": [
        {
          "output_type": "stream",
          "name": "stdout",
          "text": [
            "              precision    recall  f1-score   support\n",
            "\n",
            "           0      0.941     0.962     0.952       133\n",
            "           1      0.921     0.879     0.899        66\n",
            "\n",
            "    accuracy                          0.935       199\n",
            "   macro avg      0.931     0.921     0.925       199\n",
            "weighted avg      0.934     0.935     0.934       199\n",
            "\n",
            "[[128   5]\n",
            " [  8  58]]\n"
          ]
        }
      ]
    },
    {
      "cell_type": "markdown",
      "source": [
        "# NB Model"
      ],
      "metadata": {
        "id": "YMKeXu4cZiAP"
      }
    },
    {
      "cell_type": "code",
      "source": [
        "#Create a Gaussian Classifier\n",
        "nb_model = GaussianNB()\n",
        "nb_model.fit(X_train, y_train)"
      ],
      "metadata": {
        "colab": {
          "base_uri": "https://localhost:8080/"
        },
        "id": "rJF-0cy7Zfel",
        "outputId": "bf5a765a-6ceb-4cbc-fcaa-3aca76d65718"
      },
      "execution_count": 28,
      "outputs": [
        {
          "output_type": "execute_result",
          "data": {
            "text/plain": [
              "GaussianNB()"
            ]
          },
          "metadata": {},
          "execution_count": 28
        }
      ]
    },
    {
      "cell_type": "markdown",
      "source": [
        "# NB Model Prediction"
      ],
      "metadata": {
        "id": "4bzKVyLrZzlY"
      }
    },
    {
      "cell_type": "code",
      "source": [
        "nb_predictions = nb_model.predict(X_test)"
      ],
      "metadata": {
        "id": "LEoXQNHGZ3pn"
      },
      "execution_count": 29,
      "outputs": []
    },
    {
      "cell_type": "markdown",
      "source": [
        "#KNN Accuracy"
      ],
      "metadata": {
        "id": "SWWntXCMZ_c9"
      }
    },
    {
      "cell_type": "code",
      "source": [
        "# Use score method to get accuracy of model\n",
        "nb_score = nb_model.score(X_test, y_test)\n",
        "print(\"Accuracy NB classifier : \" + str(nb_score))"
      ],
      "metadata": {
        "colab": {
          "base_uri": "https://localhost:8080/"
        },
        "id": "6mArY1G_aBjo",
        "outputId": "22828f68-a7f5-40d3-bb67-24f883ab9927"
      },
      "execution_count": 30,
      "outputs": [
        {
          "output_type": "stream",
          "name": "stdout",
          "text": [
            "Accuracy NB classifier : 1.0\n"
          ]
        }
      ]
    },
    {
      "cell_type": "markdown",
      "source": [
        "# NB Classification Report and Confusion Matrix"
      ],
      "metadata": {
        "id": "4jsFraT-aVMz"
      }
    },
    {
      "cell_type": "code",
      "source": [
        "print(classification_report(y_test, nb_predictions, digits=3))\n",
        "nb_cm = confusion_matrix(y_test, nb_predictions)\n",
        "print(nb_cm)"
      ],
      "metadata": {
        "colab": {
          "base_uri": "https://localhost:8080/"
        },
        "id": "QkC7XvN2aUay",
        "outputId": "476ec731-4928-45ff-801d-a9879bde75ad"
      },
      "execution_count": 31,
      "outputs": [
        {
          "output_type": "stream",
          "name": "stdout",
          "text": [
            "              precision    recall  f1-score   support\n",
            "\n",
            "           0      1.000     1.000     1.000       133\n",
            "           1      1.000     1.000     1.000        66\n",
            "\n",
            "    accuracy                          1.000       199\n",
            "   macro avg      1.000     1.000     1.000       199\n",
            "weighted avg      1.000     1.000     1.000       199\n",
            "\n",
            "[[133   0]\n",
            " [  0  66]]\n"
          ]
        }
      ]
    },
    {
      "cell_type": "markdown",
      "source": [
        "# LVQ Model"
      ],
      "metadata": {
        "id": "ABV2__qdYsha"
      }
    },
    {
      "cell_type": "code",
      "source": [
        "lvq_model =  algorithms.LVQ(n_inputs=9,n_subclasses=20,n_classes=2,verbose=True,show_epoch=100,step =0.000001,n_updates_to_stepdrop=150 * 100)\n",
        "lvq_model.train(X_train, y_train, epochs=1000)\n"
      ],
      "metadata": {
        "colab": {
          "base_uri": "https://localhost:8080/"
        },
        "id": "opf17SLUWvgN",
        "outputId": "e422cf63-8d27-48b2-f548-5b29be744410"
      },
      "execution_count": 32,
      "outputs": [
        {
          "output_type": "stream",
          "name": "stdout",
          "text": [
            "\n",
            "Main information\n",
            "\n",
            "[ALGORITHM] LVQ\n",
            "\r\n",
            "[OPTION] minstep = 1e-05\n",
            "[OPTION] n_classes = 2\n",
            "[OPTION] n_inputs = 9\n",
            "[OPTION] n_subclasses = 20\n",
            "[OPTION] n_updates_to_stepdrop = 15000\n",
            "[OPTION] prototypes_per_class = None\n",
            "[OPTION] show_epoch = 100\n",
            "[OPTION] shuffle_data = False\n",
            "[OPTION] signals = None\n",
            "[OPTION] step = 1e-06\n",
            "[OPTION] verbose = True\n",
            "[OPTION] weight = None\n",
            "\r\n",
            "#1 : [22 ms] train: 0.135135\n"
          ]
        },
        {
          "output_type": "stream",
          "name": "stderr",
          "text": [
            ""
          ]
        },
        {
          "output_type": "stream",
          "name": "stdout",
          "text": [
            "#100 : [17 ms] train: 0.135135\n"
          ]
        },
        {
          "output_type": "stream",
          "name": "stderr",
          "text": [
            ""
          ]
        },
        {
          "output_type": "stream",
          "name": "stdout",
          "text": [
            "#200 : [19 ms] train: 0.137838\n"
          ]
        },
        {
          "output_type": "stream",
          "name": "stderr",
          "text": [
            ""
          ]
        },
        {
          "output_type": "stream",
          "name": "stdout",
          "text": [
            "#300 : [30 ms] train: 0.129730\n"
          ]
        },
        {
          "output_type": "stream",
          "name": "stderr",
          "text": [
            ""
          ]
        },
        {
          "output_type": "stream",
          "name": "stdout",
          "text": [
            "#400 : [28 ms] train: 0.129730\n"
          ]
        },
        {
          "output_type": "stream",
          "name": "stderr",
          "text": [
            ""
          ]
        },
        {
          "output_type": "stream",
          "name": "stdout",
          "text": [
            "#500 : [32 ms] train: 0.118919\n"
          ]
        },
        {
          "output_type": "stream",
          "name": "stderr",
          "text": [
            ""
          ]
        },
        {
          "output_type": "stream",
          "name": "stdout",
          "text": [
            "#600 : [42 ms] train: 0.110811\n"
          ]
        },
        {
          "output_type": "stream",
          "name": "stderr",
          "text": [
            ""
          ]
        },
        {
          "output_type": "stream",
          "name": "stdout",
          "text": [
            "#700 : [35 ms] train: 0.086486\n"
          ]
        },
        {
          "output_type": "stream",
          "name": "stderr",
          "text": [
            ""
          ]
        },
        {
          "output_type": "stream",
          "name": "stdout",
          "text": [
            "#800 : [30 ms] train: 0.072973\n"
          ]
        },
        {
          "output_type": "stream",
          "name": "stderr",
          "text": [
            ""
          ]
        },
        {
          "output_type": "stream",
          "name": "stdout",
          "text": [
            "#900 : [29 ms] train: 0.075676\n"
          ]
        },
        {
          "output_type": "stream",
          "name": "stderr",
          "text": [
            ""
          ]
        },
        {
          "output_type": "stream",
          "name": "stdout",
          "text": [
            "#1000 : [16 ms] train: 0.067568\n"
          ]
        },
        {
          "output_type": "stream",
          "name": "stderr",
          "text": [
            "\r                                                                               \r\r                                                                               \r\r                                                                               \r\r                                                                               \r\r                                                                               \r\r                                                                               \r\r                                                                               \r\r                                                                               \r"
          ]
        }
      ]
    },
    {
      "cell_type": "markdown",
      "source": [
        "# LVQ Model Prediction"
      ],
      "metadata": {
        "id": "_gdsxgV-Y86B"
      }
    },
    {
      "cell_type": "code",
      "source": [
        "lvq_predictions = lvq_model.predict(X_test)"
      ],
      "metadata": {
        "id": "JUokDWFQY6fA"
      },
      "execution_count": 33,
      "outputs": []
    },
    {
      "cell_type": "markdown",
      "source": [
        "#LVQ Accuracy"
      ],
      "metadata": {
        "id": "r30ikB_mZA_4"
      }
    },
    {
      "cell_type": "code",
      "source": [
        "# Use score method to get accuracy of model\n",
        "lvq_score = accuracy_score(y_test, lvq_predictions)\n",
        "print(\"Accuracy LVQ classifier : \" + str(lvq_score))"
      ],
      "metadata": {
        "colab": {
          "base_uri": "https://localhost:8080/"
        },
        "id": "4kI5ZzebZDlv",
        "outputId": "d409d038-f910-419b-efc1-94e1f024c034"
      },
      "execution_count": 37,
      "outputs": [
        {
          "output_type": "stream",
          "name": "stdout",
          "text": [
            "Accuracy LVQ classifier : 0.9246231155778895\n"
          ]
        }
      ]
    },
    {
      "cell_type": "markdown",
      "source": [
        "# LVQ Classification Report and Confusion Matrix"
      ],
      "metadata": {
        "id": "2Caa1HbmZOLY"
      }
    },
    {
      "cell_type": "code",
      "source": [
        "print(classification_report(y_test, lvq_predictions, digits=3))\n",
        "lvq_cm = confusion_matrix(y_test, lvq_predictions)\n",
        "print(lvq_cm)"
      ],
      "metadata": {
        "colab": {
          "base_uri": "https://localhost:8080/"
        },
        "id": "ImjqA4TwZRfh",
        "outputId": "f69acd7b-fc5c-4501-e103-662f7a6797f2"
      },
      "execution_count": 35,
      "outputs": [
        {
          "output_type": "stream",
          "name": "stdout",
          "text": [
            "              precision    recall  f1-score   support\n",
            "\n",
            "           0      0.928     0.962     0.945       133\n",
            "           1      0.918     0.848     0.882        66\n",
            "\n",
            "    accuracy                          0.925       199\n",
            "   macro avg      0.923     0.905     0.913       199\n",
            "weighted avg      0.924     0.925     0.924       199\n",
            "\n",
            "[[128   5]\n",
            " [ 10  56]]\n"
          ]
        }
      ]
    }
  ]
}